{
 "cells": [
  {
   "cell_type": "code",
   "execution_count": 1,
   "id": "f1d228f7-884a-427c-939a-e3412aa96283",
   "metadata": {},
   "outputs": [],
   "source": [
    "import bibtexparser"
   ]
  },
  {
   "cell_type": "code",
   "execution_count": 2,
   "id": "1cf5c80a-9673-4dbe-9bd4-09d0335f5743",
   "metadata": {},
   "outputs": [],
   "source": [
    "def load_bib_file(filename):\n",
    "    with open(filename, 'r') as bib_file:\n",
    "        return bibtexparser.load(bib_file)\n",
    "\n",
    "def save_bib_file(entries, filename):\n",
    "    with open(filename, 'w') as bib_file:\n",
    "        bibtexparser.dump(entries, bib_file)\n",
    "\n",
    "def merge_bib_files(file1, file2, output_file):\n",
    "    bib1 = load_bib_file(file1)\n",
    "    bib2 = load_bib_file(file2)\n",
    "    \n",
    "    merged_entries = bib1.entries.copy()\n",
    "    existing_entries = set()\n",
    "\n",
    "    # Create a set of (title, author) tuples for entries in the first file\n",
    "    for entry in bib1.entries:\n",
    "        title = entry.get('title', '').lower()\n",
    "        authors = entry.get('author', '').lower()\n",
    "        existing_entries.add((title, authors))\n",
    "    \n",
    "    # Add entries from the second file if they aren't duplicates\n",
    "    for entry in bib2.entries:\n",
    "        title = entry.get('title', '').lower()\n",
    "        authors = entry.get('author', '').lower()\n",
    "        if (title, authors) not in existing_entries:\n",
    "            merged_entries.append(entry)\n",
    "            existing_entries.add((title, authors))\n",
    "    \n",
    "    # Save the merged entries to the output file\n",
    "    bib_database = bibtexparser.bibdatabase.BibDatabase()\n",
    "    bib_database.entries = merged_entries\n",
    "    save_bib_file(bib_database, output_file)\n",
    "    print(f\"Successfully merged files into {output_file}\")"
   ]
  },
  {
   "cell_type": "code",
   "execution_count": 6,
   "id": "7f4c160b-5e07-4522-991c-bc466d0f1dc5",
   "metadata": {},
   "outputs": [
    {
     "name": "stderr",
     "output_type": "stream",
     "text": [
      "Entry type report not standard. Not considered.\n",
      "Entry type online not standard. Not considered.\n",
      "Entry type online not standard. Not considered.\n",
      "Entry type online not standard. Not considered.\n"
     ]
    },
    {
     "name": "stdout",
     "output_type": "stream",
     "text": [
      "Successfully merged files into merged_output.bib\n"
     ]
    }
   ],
   "source": [
    "merge_bib_files('../../../Downloads/ref2.bib', '../../../Downloads/ref1.bib', 'merged_output.bib')"
   ]
  }
 ],
 "metadata": {
  "kernelspec": {
   "display_name": "venv3.12",
   "language": "python",
   "name": "venv3.12"
  },
  "language_info": {
   "codemirror_mode": {
    "name": "ipython",
    "version": 3
   },
   "file_extension": ".py",
   "mimetype": "text/x-python",
   "name": "python",
   "nbconvert_exporter": "python",
   "pygments_lexer": "ipython3",
   "version": "3.12.7"
  }
 },
 "nbformat": 4,
 "nbformat_minor": 5
}
