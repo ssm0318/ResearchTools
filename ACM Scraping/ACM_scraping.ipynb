{
 "cells": [
  {
   "cell_type": "code",
   "execution_count": null,
   "metadata": {
    "ExecuteTime": {
     "end_time": "2024-03-18T21:53:43.648604Z",
     "start_time": "2024-03-18T21:53:40.905390Z"
    }
   },
   "outputs": [],
   "source": [
    "import requests\n",
    "import urllib.parse\n",
    "from bs4 import BeautifulSoup\n",
    "from datetime import datetime\n",
    "\n",
    "import pandas as pd\n",
    "import os"
   ]
  },
  {
   "cell_type": "code",
   "execution_count": null,
   "metadata": {
    "ExecuteTime": {
     "end_time": "2024-03-18T21:53:43.657639Z",
     "start_time": "2024-03-18T21:53:43.650807Z"
    }
   },
   "outputs": [],
   "source": [
    "keyword_lists = {\n",
    "    'relationship': [\n",
    "        'relationship building',\n",
    "        'relationship-building',\n",
    "        'relationship maintenance',\n",
    "        'peer relationship',\n",
    "        'meaningful',\n",
    "        'genuine',\n",
    "        'closer',\n",
    "        'interpersonal relationship',\n",
    "        'personal relationship',\n",
    "        'friendship',\n",
    "        'intimate relationship',\n",
    "        'close relationship',\n",
    "        'closeness',\n",
    "        'relationship',\n",
    "        'relationship-building',\n",
    "        'relatedness',\n",
    "        'social connection',\n",
    "        'companionship',\n",
    "        'social bond',\n",
    "        'co-presence',\n",
    "        'romantic relationship',\n",
    "        'inner circle',\n",
    "        'social capital',\n",
    "        'bonding',\n",
    "        'peer interaction',\n",
    "        'social engagement',\n",
    "        'social penetration',\n",
    "        'online relationship',\n",
    "        'self-disclosure',\n",
    "        'emotional connection',\n",
    "        'empathy',\n",
    "        'empathetic',\n",
    "        'trust building',\n",
    "        'intimacy',\n",
    "        'social presence',\n",
    "        'psychological safety',\n",
    "        'mutual understanding',\n",
    "    ],\n",
    "    'design': [\n",
    "        'design',\n",
    "        'designing',\n",
    "        'designer',\n",
    "        'designed',\n",
    "        'prototype',\n",
    "        'prototyping',\n",
    "        'deploy',\n",
    "        'deployed',\n",
    "        'deployment',\n",
    "        'experiment',\n",
    "    ],\n",
    "    'platform': [\n",
    "        'online conversation',\n",
    "        'online communication',\n",
    "        'social media',\n",
    "        'social network',\n",
    "        'social networking site',\n",
    "        'SNS',\n",
    "        'messaging',\n",
    "        'digital message',\n",
    "        'communication technology',\n",
    "        'communication technologies',\n",
    "        'networking platform',\n",
    "        'digital community',\n",
    "        'digital communities',\n",
    "        'virtual community',\n",
    "        'virtual communities',\n",
    "        'online platform',\n",
    "        'online chat',\n",
    "        'private chat',\n",
    "        'social platform',\n",
    "        'group chat',\n",
    "        'social media',\n",
    "        'microblogging',\n",
    "        'online interaction',\n",
    "        'Facebook',\n",
    "        'Twitter',\n",
    "        'Instagram',\n",
    "        'Snapchat',\n",
    "        'TikTok',\n",
    "        'WhatsApp',\n",
    "        'WeChat',\n",
    "        'Telegram',\n",
    "        'Discord'\n",
    "    ],\n",
    "}\n"
   ]
  },
  {
   "cell_type": "code",
   "execution_count": null,
   "metadata": {
    "ExecuteTime": {
     "end_time": "2024-03-18T21:53:43.668561Z",
     "start_time": "2024-03-18T21:53:43.661341Z"
    }
   },
   "outputs": [],
   "source": [
    "def generate_search_query(lists):\n",
    "    queries = []\n",
    "    for list in lists:\n",
    "        if len(lists[list]) > 0:\n",
    "            query = \"(\" + \" OR \".join([f'(\"{item}\" OR \"{item}s\")' for item in lists[list]]) + \")\"\n",
    "            queries.append(query)\n",
    "\n",
    "    final_query = \" AND \".join(queries)\n",
    "\n",
    "    return '(' + final_query + ')'\n",
    "\n",
    "\n",
    "search_query = generate_search_query(keyword_lists)\n",
    "print(search_query)"
   ]
  },
  {
   "cell_type": "code",
   "execution_count": null,
   "metadata": {
    "ExecuteTime": {
     "end_time": "2024-03-18T21:53:43.679033Z",
     "start_time": "2024-03-18T21:53:43.672971Z"
    }
   },
   "outputs": [],
   "source": [
    "def convert_query_to_url_encoded_string(query):\n",
    "    encoded_query_ = urllib.parse.quote(query)\n",
    "    encoded_query_ = encoded_query_.replace('%2A', '*')\n",
    "    encoded_query_ = encoded_query_.replace('%20', '+')\n",
    "    encoded_query_ = encoded_query_.replace('%2B', '+')\n",
    "    return encoded_query_\n",
    "\n",
    "\n",
    "encoded_query = convert_query_to_url_encoded_string(search_query)\n",
    "print(encoded_query)"
   ]
  },
  {
   "cell_type": "code",
   "execution_count": null,
   "metadata": {
    "ExecuteTime": {
     "end_time": "2024-03-18T21:53:43.687373Z",
     "start_time": "2024-03-18T21:53:43.682338Z"
    }
   },
   "outputs": [],
   "source": [
    "# test url\n",
    "url = ('https://dl.acm.org/action/doSearch?fillQuickSearch=false&target=advanced&expand=dl' + \\\n",
    "       '&AllField=' + 'Abstract' + '%3A' + encoded_query + \\\n",
    "       '&ContentItemType=research-article&startPage=&PublisherRaw=PUB27')\n",
    "print(url)"
   ]
  },
  {
   "cell_type": "code",
   "execution_count": null,
   "metadata": {
    "ExecuteTime": {
     "end_time": "2024-03-18T22:08:23.709426Z",
     "start_time": "2024-03-18T22:02:23.376937Z"
    }
   },
   "outputs": [],
   "source": [
    "data = []\n",
    "\n",
    "ls_fields = ['Keyword', 'Title', 'Abstract']\n",
    "\n",
    "for field in ls_fields:\n",
    "    print(field)\n",
    "    url = ('https://dl.acm.org/action/doSearch?fillQuickSearch=false&target=advanced&expand=dl' + \\\n",
    "           '&AllField=' + field + '%3A' + encoded_query + '&ContentItemType=research-article&startPage=&PublisherRaw=PUB27')\n",
    "\n",
    "    content = requests.get(url).text\n",
    "    page = BeautifulSoup(content, 'lxml')\n",
    "\n",
    "    num_res = int(page.find('span', attrs={'class': 'hitsLength'}).text.replace(',', '').strip())\n",
    "    num_pages = int(num_res / 50) + 1\n",
    "    print(\"N: \", num_res)\n",
    "    print(\"num_pages: \", num_pages)\n",
    "\n",
    "    for i in range(num_pages):\n",
    "        print(i)\n",
    "        url = ('https://dl.acm.org/action/doSearch?fillQuickSearch=false&target=advanced&expand=dl' + \\\n",
    "               '&AllField=' + field + '%3A' + encoded_query + '&pageSize=50&startPage=' + str(i))\n",
    "\n",
    "        content = requests.get(url).text\n",
    "        page = BeautifulSoup(content, 'lxml')\n",
    "\n",
    "        for entry in page.find_all(\"div\", attrs={\"class\": \"issue-item__content\"}):\n",
    "            try:\n",
    "                title = entry.find('h5', attrs={'class': 'issue-item__title'})\n",
    "                author = entry.find('ul', attrs={'class': 'rlist--inline'})\n",
    "                cite = entry.find('span', attrs={'class': 'citation'})\n",
    "                conf = entry.find('span', attrs={'class': 'epub-section__title'})\n",
    "                years = entry.find('span', attrs={'class': 'dot-separator'})\n",
    "                url = 'https://dl.acm.org' + entry.a['href']\n",
    "\n",
    "                try:\n",
    "                    content = requests.get(url).text\n",
    "                    page = BeautifulSoup(content, 'lxml')\n",
    "                    div = page.find('div', attrs={'class': 'abstractInFull'})\n",
    "                    abst = div.find('p')\n",
    "                except Exception as e:\n",
    "                    abst = entry.find('div', attrs={'class': 'issue-item__abstract'})\n",
    "                    print(page)\n",
    "                    print('=======')\n",
    "                    print(div)\n",
    "                    print(e)\n",
    "                    print()\n",
    "                    \n",
    "                data.append({\"title\": title.text.replace('[PDF]', ''),\n",
    "                             \"url\": url,\n",
    "                             'authors': author.text.replace('\\n', ''),\n",
    "                             'abstract': abst.text.replace('\\n', ''),\n",
    "                             'conference': conf.text,\n",
    "                             'citation': cite.text,\n",
    "                             'year': years.text.split(',')[0].split(' ')[1],\n",
    "                             'search_field': field})\n",
    "            except Exception as e:\n",
    "#                 print(e)\n",
    "#                 print(entry)\n",
    "                continue\n",
    "    print()\n",
    "        \n",
    "df = pd.DataFrame(data)\n",
    "df = df.drop_duplicates('title', inplace=False)\n"
   ]
  },
  {
   "cell_type": "code",
   "execution_count": null,
   "metadata": {},
   "outputs": [],
   "source": [
    "len(data)"
   ]
  },
  {
   "cell_type": "code",
   "execution_count": null,
   "metadata": {
    "ExecuteTime": {
     "end_time": "2024-03-18T22:08:50.879345Z",
     "start_time": "2024-03-18T22:08:50.872919Z"
    }
   },
   "outputs": [],
   "source": [
    "len(df)"
   ]
  },
  {
   "cell_type": "code",
   "execution_count": null,
   "metadata": {
    "ExecuteTime": {
     "end_time": "2024-03-18T22:01:21.466646Z",
     "start_time": "2024-03-18T22:01:21.466494Z"
    }
   },
   "outputs": [],
   "source": [
    "df"
   ]
  },
  {
   "cell_type": "code",
   "execution_count": null,
   "metadata": {},
   "outputs": [],
   "source": [
    "df.iloc[0]['abstract']"
   ]
  },
  {
   "cell_type": "code",
   "execution_count": null,
   "metadata": {},
   "outputs": [],
   "source": [
    "today_date = datetime.now().strftime('%Y-%m-%d')\n",
    "filename = f'ACM_data_{today_date}.csv'\n",
    "\n",
    "if os.path.exists(filename):\n",
    "    df.to_csv(filename, mode='a', header=False, index=True)\n",
    "else:\n",
    "    df.to_csv(filename, header=True, index=True)\n",
    "print(f'Data saved to {filename}')\n"
   ]
  },
  {
   "cell_type": "code",
   "execution_count": null,
   "metadata": {
    "scrolled": true
   },
   "outputs": [],
   "source": [
    "\n"
   ]
  }
 ],
 "metadata": {
  "kernelspec": {
   "display_name": "venv3.9",
   "language": "python",
   "name": "venv3.9"
  },
  "language_info": {
   "codemirror_mode": {
    "name": "ipython",
    "version": 3
   },
   "file_extension": ".py",
   "mimetype": "text/x-python",
   "name": "python",
   "nbconvert_exporter": "python",
   "pygments_lexer": "ipython3",
   "version": "3.9.16"
  }
 },
 "nbformat": 4,
 "nbformat_minor": 4
}
