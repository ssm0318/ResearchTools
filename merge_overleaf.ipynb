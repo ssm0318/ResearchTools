{
 "cells": [
  {
   "cell_type": "code",
   "execution_count": 1,
   "id": "addc0517-7e9f-4b14-8b29-f0ece631c0dd",
   "metadata": {},
   "outputs": [],
   "source": [
    "import os\n",
    "import re\n",
    "import zipfile\n",
    "import tempfile\n",
    "import logging"
   ]
  },
  {
   "cell_type": "code",
   "execution_count": 2,
   "id": "592f797c-ca5b-4ec8-b6ce-5dd1faf99a7e",
   "metadata": {},
   "outputs": [],
   "source": [
    "def setup_logging(zip_path):\n",
    "    \"\"\"\n",
    "    Configure logging to use a log file based on the input ZIP file name.\n",
    "    \"\"\"\n",
    "    zip_name = os.path.splitext(os.path.basename(zip_path))[0]\n",
    "    log_file = f\"{zip_name}_log.txt\"\n",
    "    logging.basicConfig(\n",
    "        filename=log_file,\n",
    "        level=logging.INFO,\n",
    "        format=\"%(asctime)s - %(levelname)s - %(message)s\"\n",
    "    )\n",
    "    return log_file"
   ]
  },
  {
   "cell_type": "code",
   "execution_count": 3,
   "id": "fbfd5f3b-b12c-4c88-91df-952f0880c3ca",
   "metadata": {},
   "outputs": [],
   "source": [
    "def convert_longtable_to_text(content):\n",
    "    \"\"\"\n",
    "    Convert longtable environments to plain text by removing LaTeX formatting,\n",
    "    simplifying column definitions, and handling custom commands.\n",
    "    \"\"\"\n",
    "    longtable_pattern = re.compile(r'\\\\begin{longtable}.*?\\\\end{longtable}', re.DOTALL)\n",
    "    matches = longtable_pattern.findall(content)\n",
    "\n",
    "    for match in matches:\n",
    "        logging.info(\"Converting longtable to plain text.\")\n",
    "\n",
    "        # Remove \\begin{longtable} and \\end{longtable}\n",
    "        table_text = re.sub(r'\\\\begin{longtable}.*?\\n', '', match)\n",
    "        table_text = re.sub(r'\\\\end{longtable}', '', table_text)\n",
    "\n",
    "        # Remove any column definitions in braces (e.g., {l l p{1.5cm}})\n",
    "        table_text = re.sub(r'\\{.*?\\}', '', table_text)\n",
    "\n",
    "        # Replace & with a pipe symbol (|) to represent columns\n",
    "        table_text = re.sub(r'&', ' | ', table_text)\n",
    "\n",
    "        # Replace \\\\ with newlines to separate rows\n",
    "        table_text = re.sub(r'\\\\\\\\', '\\n', table_text)\n",
    "\n",
    "        # Remove horizontal lines and formatting commands\n",
    "        table_text = re.sub(r'\\\\hline|\\\\midrule', '', table_text)\n",
    "\n",
    "        # Replace any occurrence of \\PAR or similar commands with a newline\n",
    "        table_text = re.sub(r'\\\\PAR', '\\n', table_text)\n",
    "\n",
    "        # Remove remaining LaTeX commands\n",
    "        table_text = re.sub(r'\\\\[a-zA-Z]+\\*?(?:\\{.*?\\})?', '', table_text)\n",
    "        table_text = re.sub(r'\\{|\\}', '', table_text)\n",
    "\n",
    "        # Add a note indicating the table was converted\n",
    "        plain_text_table = f\"\\n(Converted Table via Python script to support Latexdiff execution)\\n{table_text}\\n\"\n",
    "\n",
    "        # Replace the original longtable with the cleaned plain text version\n",
    "        content = content.replace(match, plain_text_table)\n",
    "\n",
    "    return content"
   ]
  },
  {
   "cell_type": "code",
   "execution_count": 4,
   "id": "38ec7738-6664-45dd-a8fa-f62b1fa633a3",
   "metadata": {},
   "outputs": [],
   "source": [
    "def merge_tex(file_path, base_dir):\n",
    "    logging.info(f\"Processing file: {file_path}\")\n",
    "    merged_content = []\n",
    "\n",
    "    with open(file_path, \"r\") as f:\n",
    "        content = f.read()\n",
    "        content = convert_longtable_to_text(content)\n",
    "        \n",
    "        for line_number, line in enumerate(content.splitlines(), start=1):\n",
    "            match = re.match(r\"\\\\(input|include)\\{(.+?)\\}\", line)\n",
    "            if match:\n",
    "                included_file = os.path.normpath(os.path.join(base_dir, match.group(2) + \".tex\"))\n",
    "                if os.path.exists(included_file):\n",
    "                    logging.info(f\"Inserting content from: {included_file}\")\n",
    "                    merged_content.append(f\"% Start of {included_file}\\n\")\n",
    "                    merged_content.append(merge_tex(included_file, base_dir))\n",
    "                    merged_content.append(f\"% End of {included_file}\\n\")\n",
    "                else:\n",
    "                    logging.warning(f\"File not found: {included_file} (Referenced in {file_path} at line {line_number})\")\n",
    "                    merged_content.append(f\"% Warning: {included_file} not found\\n\")\n",
    "            else:\n",
    "                merged_content.append(line + \"\\n\")\n",
    "\n",
    "    return \"\".join(merged_content)"
   ]
  },
  {
   "cell_type": "code",
   "execution_count": 5,
   "id": "7a16b6f6-9126-40ba-a973-b728528d5260",
   "metadata": {},
   "outputs": [],
   "source": [
    "def process_zip(zip_path):\n",
    "    # Generate output file name based on the input ZIP file name\n",
    "    zip_name = os.path.splitext(os.path.basename(zip_path))[0]\n",
    "    output_file = f\"{zip_name}_merged.tex\"\n",
    "    log_file = setup_logging(zip_path)\n",
    "\n",
    "    with tempfile.TemporaryDirectory() as temp_dir:\n",
    "        logging.info(f\"Extracting ZIP file: {zip_path}\")\n",
    "        with zipfile.ZipFile(zip_path, 'r') as zip_ref:\n",
    "            zip_ref.extractall(temp_dir)\n",
    "            logging.info(f\"Extraction complete. Files extracted to: {temp_dir}\")\n",
    "        \n",
    "        # Find the main .tex file (assuming it's named 'main.tex')\n",
    "        main_file = None\n",
    "        for root, _, files in os.walk(temp_dir):\n",
    "            if \"main.tex\" in files:\n",
    "                main_file = os.path.join(root, \"main.tex\")\n",
    "                break\n",
    "        \n",
    "        if not main_file:\n",
    "            logging.error(\"No 'main.tex' file found in the ZIP archive.\")\n",
    "            print(f\"Error: No 'main.tex' file found in the ZIP archive. See {log_file} for details.\")\n",
    "            return\n",
    "        \n",
    "        base_dir = os.path.dirname(main_file)\n",
    "        logging.info(f\"Main file found: {main_file}\")\n",
    "        \n",
    "        # Merge the .tex files starting from the main file\n",
    "        merged_content = merge_tex(main_file, base_dir)\n",
    "        \n",
    "        # Write the merged content to the output file\n",
    "        with open(output_file, \"w\") as f:\n",
    "            f.write(merged_content)\n",
    "        \n",
    "        logging.info(f\"Merged content written to: {output_file}\")\n",
    "        print(f\"Merged content written to {output_file}. Log file created: {log_file}\")"
   ]
  },
  {
   "cell_type": "code",
   "execution_count": 6,
   "id": "291027a4-743e-435a-8308-3e1ed69db68d",
   "metadata": {
    "scrolled": true
   },
   "outputs": [
    {
     "name": "stdout",
     "output_type": "stream",
     "text": [
      "Merged content written to original_merged.tex. Log file created: original_log.txt\n"
     ]
    }
   ],
   "source": [
    "zip_path = \"original.zip\"  # Replace with the path to your ZIP file\n",
    "process_zip(zip_path)"
   ]
  },
  {
   "cell_type": "code",
   "execution_count": 7,
   "id": "3fb5553f-2692-482d-9cdb-bbf7e226bc9a",
   "metadata": {},
   "outputs": [],
   "source": [
    "# latexdiff original_merged.tex modified_merged.tex > colored.tex"
   ]
  }
 ],
 "metadata": {
  "kernelspec": {
   "display_name": "venv3.12",
   "language": "python",
   "name": "venv3.12"
  },
  "language_info": {
   "codemirror_mode": {
    "name": "ipython",
    "version": 3
   },
   "file_extension": ".py",
   "mimetype": "text/x-python",
   "name": "python",
   "nbconvert_exporter": "python",
   "pygments_lexer": "ipython3",
   "version": "3.12.7"
  }
 },
 "nbformat": 4,
 "nbformat_minor": 5
}
