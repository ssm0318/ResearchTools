{
 "cells": [
  {
   "cell_type": "code",
   "execution_count": null,
   "id": "6cbcb73d",
   "metadata": {},
   "outputs": [],
   "source": [
    "import pandas as pd\n",
    "import requests\n",
    "from google_play_scraper import app"
   ]
  },
  {
   "cell_type": "code",
   "execution_count": null,
   "id": "6e21fd00",
   "metadata": {},
   "outputs": [],
   "source": [
    "df1 = pd.read_csv('./output/42matters_search_1.csv')\n",
    "df2 = pd.read_csv('./output/221029_search_gplay.csv')"
   ]
  },
  {
   "cell_type": "code",
   "execution_count": null,
   "id": "f915e79b",
   "metadata": {},
   "outputs": [],
   "source": [
    "1057/1630"
   ]
  },
  {
   "cell_type": "code",
   "execution_count": null,
   "id": "eca9a686",
   "metadata": {},
   "outputs": [],
   "source": [
    "df1 = df1.rename(columns={'query': 'keyword'})\n",
    "df1 = df1.drop(columns=['installs'])"
   ]
  },
  {
   "cell_type": "code",
   "execution_count": null,
   "id": "a7801796",
   "metadata": {},
   "outputs": [],
   "source": [
    "df1.columns"
   ]
  },
  {
   "cell_type": "code",
   "execution_count": null,
   "id": "52656409",
   "metadata": {},
   "outputs": [],
   "source": [
    "df2.columns"
   ]
  },
  {
   "cell_type": "code",
   "execution_count": null,
   "id": "9174af3f",
   "metadata": {},
   "outputs": [],
   "source": [
    "rows = []\n",
    "remove = []\n",
    "\n",
    "for appId in df1['appId']:\n",
    "    try:\n",
    "        result = app(\n",
    "            appId,\n",
    "            lang='en',\n",
    "            country='us'\n",
    "        )\n",
    "    except Exception as e:\n",
    "        remove.append(appId)\n",
    "        continue\n",
    "    rows.append((result['minInstalls'], result['installs'], result['reviews'], result['free'], result['developerId'], \n",
    "                 result['developerWebsite'], result['updated'], result['videoImage']))"
   ]
  },
  {
   "cell_type": "code",
   "execution_count": null,
   "id": "674ba13e",
   "metadata": {},
   "outputs": [],
   "source": [
    "len(df1)"
   ]
  },
  {
   "cell_type": "code",
   "execution_count": null,
   "id": "d8cf1f91",
   "metadata": {},
   "outputs": [],
   "source": [
    "df1 = df1[~df1['appId'].isin(remove)].reset_index()\n",
    "df1 = df1.drop(columns=['index', 'Unnamed: 0'])"
   ]
  },
  {
   "cell_type": "code",
   "execution_count": null,
   "id": "e8aa6718",
   "metadata": {},
   "outputs": [],
   "source": [
    "len(df1)"
   ]
  },
  {
   "cell_type": "code",
   "execution_count": null,
   "id": "96efda17",
   "metadata": {},
   "outputs": [],
   "source": [
    "df1_append = pd.DataFrame(rows, columns=['minInstalls', 'installs', 'reviews', 'free', 'developerId',\n",
    "                                        'developerWebsite', 'updated', 'videoImage'])"
   ]
  },
  {
   "cell_type": "code",
   "execution_count": null,
   "id": "42be1a23",
   "metadata": {},
   "outputs": [],
   "source": [
    "df1 = pd.concat([df1, df1_append], axis=1)"
   ]
  },
  {
   "cell_type": "code",
   "execution_count": null,
   "id": "bdcb76b1",
   "metadata": {},
   "outputs": [],
   "source": [
    "def intersection(lst1, lst2):\n",
    "    lst3 = [value for value in lst1 if value in lst2]\n",
    "    return lst3\n",
    "\n",
    "len(intersection(list(df1['appId']), list(df2['appId'])))"
   ]
  },
  {
   "cell_type": "code",
   "execution_count": null,
   "id": "1df81ad3",
   "metadata": {},
   "outputs": [],
   "source": [
    "intersection(list(df1['appId']), list(df2['appId']))"
   ]
  },
  {
   "cell_type": "code",
   "execution_count": null,
   "id": "6e76eb63",
   "metadata": {},
   "outputs": [],
   "source": [
    "df1"
   ]
  },
  {
   "cell_type": "code",
   "execution_count": null,
   "id": "6b3bc4aa",
   "metadata": {},
   "outputs": [],
   "source": [
    "df1['installs'] = df1['installs'].apply(lambda x: x.replace(',', '').replace('+', '') if str(x) != 'nan' else 0)"
   ]
  },
  {
   "cell_type": "code",
   "execution_count": null,
   "id": "7101c998",
   "metadata": {},
   "outputs": [],
   "source": [
    "df1['ratings'] = df1['ratings'].apply(lambda x: int(x) if x != '.' or str(x) != 'nan' else 0)\n",
    "df2['ratings'] = df2['ratings'].apply(lambda x: int(x) if x != '.' else 0)"
   ]
  },
  {
   "cell_type": "code",
   "execution_count": null,
   "id": "616ac0b3",
   "metadata": {},
   "outputs": [],
   "source": [
    "df_all = pd.concat([df2, df1], axis=0).sort_values(by=['ratings']).drop_duplicates('appId')"
   ]
  },
  {
   "cell_type": "code",
   "execution_count": null,
   "id": "1f8fef6c",
   "metadata": {},
   "outputs": [],
   "source": [
    "df_all.to_csv('./output/initial_search_data_gplay.csv')"
   ]
  },
  {
   "cell_type": "code",
   "execution_count": null,
   "id": "9ab00084",
   "metadata": {},
   "outputs": [],
   "source": [
    "assert False"
   ]
  },
  {
   "cell_type": "code",
   "execution_count": null,
   "id": "00063ccc",
   "metadata": {},
   "outputs": [],
   "source": []
  },
  {
   "cell_type": "code",
   "execution_count": null,
   "id": "b0b7b988",
   "metadata": {},
   "outputs": [],
   "source": [
    "api_token = 'c49c0c0922c7ac40941c692b4a18cce51fcfa03e'"
   ]
  },
  {
   "cell_type": "code",
   "execution_count": null,
   "id": "8359ca43",
   "metadata": {},
   "outputs": [],
   "source": [
    "# url = \"https://data.42matters.com/api/v2.0/android/apps/search.json\" # 42 matters search\n",
    "url = \"https://data.42matters.com/api/v2.0/android/aso/keyword_search.json\" # Google Play search\n",
    "\n",
    "queries = [\n",
    "  'social media',\n",
    "  'social media platform',\n",
    "  'social media site',\n",
    "  'social site',\n",
    "  'online community',\n",
    "  'social network service',\n",
    "  'genuine relationship',\n",
    "  'genuine conversation',\n",
    "  'genuine interaction',\n",
    "  'genuine communication',\n",
    "  'genuine friend',\n",
    "  'authentic relationship',\n",
    "  'authentic conversation',\n",
    "  'authentic interaction',\n",
    "  'authentic communication',\n",
    "  'authentic friend',\n",
    "  'intimate friend',\n",
    "  'close friend',\n",
    "  'closer friend',\n",
    "  'truthful relationship',\n",
    "  'meaningful relationship',\n",
    "  'deep friendship',\n",
    "  'friend deeper',\n",
    "  'true friend',\n",
    "  'friend trust',\n",
    "  'real friend',\n",
    "  'best friend',\n",
    "  'genuine',\n",
    "  'authentic'\n",
    "]"
   ]
  },
  {
   "cell_type": "code",
   "execution_count": null,
   "id": "c39d81a2",
   "metadata": {},
   "outputs": [],
   "source": [
    "rows = []\n",
    "\n",
    "for q in queries:\n",
    "    for i in range(200):\n",
    "        params = {\n",
    "             \"term\": q,\n",
    "             \"country\": \"US\",\n",
    "             \"limit\": \"50\",\n",
    "             \"page\": str(i),\n",
    "             \"access_token\": \"c49c0c0922c7ac40941c692b4a18cce51fcfa03e\",\n",
    "        }\n",
    "        result = requests.get(url, params=params)\n",
    "        \n",
    "        data = result.json()['results']\n",
    "        n = len(data)\n",
    "        if n == 0:\n",
    "            break\n",
    "        \n",
    "        for i in range(n):\n",
    "            rows.append((\n",
    "                q,\n",
    "                data[i]['package_name'],\n",
    "                data[i]['market_url'],\n",
    "                data[i]['title'],\n",
    "                data[i]['description'],\n",
    "                data[i]['short_desc'],\n",
    "                data[i]['downloads'],\n",
    "                data[i]['rating'],\n",
    "                data[i]['number_ratings'],\n",
    "                data[i]['price_numeric'],\n",
    "                data[i]['developer'],\n",
    "                data[i]['category'],\n",
    "                data[i]['screenshots'],\n",
    "                data[i]['promo_video']\n",
    "            ))"
   ]
  },
  {
   "cell_type": "code",
   "execution_count": null,
   "id": "74c52bbb",
   "metadata": {},
   "outputs": [],
   "source": [
    "df = pd.DataFrame(rows, columns=['query', 'appId', 'url', 'title', 'description', 'summary', 'installs', 'score',\n",
    "                           'ratings', 'price', 'developer', 'genre', 'screenshots', 'video'])"
   ]
  },
  {
   "cell_type": "code",
   "execution_count": null,
   "id": "944e335b",
   "metadata": {},
   "outputs": [],
   "source": [
    "df.drop_duplicates('appId').to_csv('./output/42matters_search_1.csv')"
   ]
  },
  {
   "cell_type": "code",
   "execution_count": null,
   "id": "f3f39e48",
   "metadata": {},
   "outputs": [],
   "source": [
    "df['query'].value_counts()"
   ]
  },
  {
   "cell_type": "code",
   "execution_count": null,
   "id": "f2eaf9b2",
   "metadata": {},
   "outputs": [],
   "source": []
  },
  {
   "cell_type": "code",
   "execution_count": null,
   "id": "b6bec57a",
   "metadata": {},
   "outputs": [],
   "source": [
    "url = \"https://data.42matters.com/api/v2.0/android/aso/app_keywords.json\"\n",
    "params = {\n",
    "     \"p\": \"com.bereal.ft\",\n",
    "     \"country\": \"US\",\n",
    "     \"limit\": \"10\",\n",
    "     \"access_token\": \"c49c0c0922c7ac40941c692b4a18cce51fcfa03e\",\n",
    "}\n",
    "result = requests.get(url, params=params)\n",
    "\n",
    "print(result.json())"
   ]
  },
  {
   "cell_type": "code",
   "execution_count": null,
   "id": "761e5dba",
   "metadata": {},
   "outputs": [],
   "source": []
  },
  {
   "cell_type": "code",
   "execution_count": null,
   "id": "2329bbf3",
   "metadata": {},
   "outputs": [],
   "source": []
  },
  {
   "cell_type": "code",
   "execution_count": null,
   "id": "116b9918",
   "metadata": {},
   "outputs": [],
   "source": []
  },
  {
   "cell_type": "code",
   "execution_count": null,
   "id": "2c9f0e09",
   "metadata": {},
   "outputs": [],
   "source": []
  },
  {
   "cell_type": "code",
   "execution_count": null,
   "id": "7fe5f63b",
   "metadata": {},
   "outputs": [],
   "source": []
  },
  {
   "cell_type": "code",
   "execution_count": null,
   "id": "32d6d32f",
   "metadata": {},
   "outputs": [],
   "source": []
  },
  {
   "cell_type": "code",
   "execution_count": null,
   "id": "df4e166d",
   "metadata": {},
   "outputs": [],
   "source": []
  },
  {
   "cell_type": "code",
   "execution_count": null,
   "id": "8bfa2633",
   "metadata": {},
   "outputs": [],
   "source": []
  },
  {
   "cell_type": "code",
   "execution_count": null,
   "id": "4e6269c5",
   "metadata": {},
   "outputs": [],
   "source": []
  },
  {
   "cell_type": "code",
   "execution_count": null,
   "id": "6a70943c",
   "metadata": {},
   "outputs": [],
   "source": []
  },
  {
   "cell_type": "code",
   "execution_count": null,
   "id": "c7a6c6fe",
   "metadata": {},
   "outputs": [],
   "source": []
  }
 ],
 "metadata": {
  "kernelspec": {
   "display_name": "venv3.9",
   "language": "python",
   "name": "venv3.9"
  },
  "language_info": {
   "codemirror_mode": {
    "name": "ipython",
    "version": 3
   },
   "file_extension": ".py",
   "mimetype": "text/x-python",
   "name": "python",
   "nbconvert_exporter": "python",
   "pygments_lexer": "ipython3",
   "version": "3.9.13"
  }
 },
 "nbformat": 4,
 "nbformat_minor": 5
}
