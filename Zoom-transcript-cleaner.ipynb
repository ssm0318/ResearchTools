{
 "cells": [
  {
   "cell_type": "code",
   "execution_count": null,
   "id": "51f8d737-0831-48e2-a12d-beb640133e16",
   "metadata": {},
   "outputs": [],
   "source": [
    "import re\n",
    "import os\n",
    "from docx import Document"
   ]
  },
  {
   "cell_type": "code",
   "execution_count": null,
   "id": "ac1130ea-35de-4f4d-9a3b-8f49eee0195a",
   "metadata": {},
   "outputs": [],
   "source": [
    "def formate_transcripts(filename):\n",
    "    try:\n",
    "        with open(filename, 'r', encoding='utf-8') as f:\n",
    "            lines = f.readlines()\n",
    "    except UnicodeDecodeError:\n",
    "        try:\n",
    "            with open(filename, 'r', encoding='ISO-8859-1') as f:\n",
    "                lines = f.readlines()\n",
    "        except:\n",
    "            print(f\"Failed to read file {filename} with both UTF-8 and ISO-8859-1 encodings. Skipping this file.\")\n",
    "            return []\n",
    "\n",
    "    results = []\n",
    "    timestamp = \"\"\n",
    "    for i, line in enumerate(lines):\n",
    "        line = line.strip()\n",
    "\n",
    "        # Detect timestamp line\n",
    "        if re.match(r\"\\d{2}:\\d{2}:\\d{2}\\.\\d{3} -->\", line):\n",
    "            timestamp = line.strip()\n",
    "\n",
    "        # Next line is the speaker and statement\n",
    "        elif timestamp and re.match(r\".+?:\", line):  # must contain \"Speaker:\"\n",
    "            results.append({\n",
    "                \"timestamp\": timestamp,\n",
    "                \"statement\": line.strip(),\n",
    "                \"index\": i  # Use line number instead of transcript index\n",
    "            })\n",
    "            timestamp = \"\"  # reset until next timestamp\n",
    "\n",
    "    return results"
   ]
  },
  {
   "cell_type": "code",
   "execution_count": null,
   "id": "b1dfdd18-a98a-4218-8049-448fa536e2f6",
   "metadata": {},
   "outputs": [],
   "source": [
    "def get_speaker(results, pid): \n",
    "    dct = {}\n",
    "    for key, value in enumerate(results):\n",
    "        # print(\"Original statement:\", value['statement'])  # Debugging line\n",
    "        if \":\" in value['statement']:\n",
    "            speaker, statement = value['statement'].split(\":\", 1)\n",
    "        else:\n",
    "            speaker = \"NA\"\n",
    "            statement = value['statement']\n",
    "        \n",
    "        if speaker not in [\"JaeWon Kim\", \"Thea Klein-Balajee\"]:\n",
    "            speaker = pid  # Replace the speaker with the PID\n",
    "        \n",
    "        match = re.search(\"[\\.\\?\\!]$\", statement)\n",
    "        if match:\n",
    "            dct[key] = {\"speaker\": speaker, \"statement\": [statement.strip()], 'index': [value['index']], 'timestamp': [value['timestamp']]}\n",
    "        else:\n",
    "            dct[key] = {\"speaker\": speaker, \"statement\": [statement.strip() + \"... \"],  'index': [value['index']], 'timestamp': [value['timestamp']]}\n",
    "                \n",
    "    return dct"
   ]
  },
  {
   "cell_type": "code",
   "execution_count": null,
   "id": "bebf65c4-37a1-4918-b568-bd70b796afc5",
   "metadata": {},
   "outputs": [],
   "source": [
    "def formate_statements(dct):\n",
    "    for key, value in dct.items():\n",
    "        ind = key + 1\n",
    "        if ind != len(dct):\n",
    "            speaker = value['speaker']\n",
    "            speaker_i = dct[ind]['speaker']\n",
    "            if speaker == speaker_i:\n",
    "                dct[ind]['statement'].insert(0,\"\".join(dct[key]['statement']))\n",
    "                dct[key]['statement'] = \"APPENDED\"\n",
    "\n",
    "                indexes = dct[key]['index']\n",
    "                for index in indexes:\n",
    "                    dct[ind]['index'].append(index)\n",
    "                dct[key]['index'] = \"APPENDED\"\n",
    "\n",
    "                timestamps = dct[key]['timestamp']\n",
    "                for timestamp in timestamps:\n",
    "                    dct[ind]['timestamp'].append(timestamp)\n",
    "                dct[key]['timestamp'] = \"APPENDED\"\n",
    "    return dct"
   ]
  },
  {
   "cell_type": "code",
   "execution_count": null,
   "id": "b8d39474-b9f7-479a-8d01-4ddbbb866d19",
   "metadata": {},
   "outputs": [],
   "source": [
    "def save_clean_transcript(dct, filename):\n",
    "    cleaned_directory = os.path.join('.', 'cleaned')\n",
    "\n",
    "    if not os.path.exists(cleaned_directory):\n",
    "        os.makedirs(cleaned_directory)\n",
    "\n",
    "    # Replace extension with .docx (handles both .vtt and .txt)\n",
    "    base_name = os.path.splitext(filename)[0]\n",
    "    new_filename = f\"{base_name}.docx\"\n",
    "    output_path = os.path.join(cleaned_directory, new_filename)\n",
    "\n",
    "    # Create a new Document\n",
    "    doc = Document()\n",
    "\n",
    "    for key, value in dct.items():\n",
    "        if value['statement'] != \"APPENDED\":\n",
    "            # Extract timestamp without milliseconds\n",
    "            formatted_timestamp = value['timestamp'][-1].split('-->')[0].strip().split('.')[0]\n",
    "\n",
    "            doc.add_paragraph(f\"{value['speaker']} {formatted_timestamp}\")\n",
    "            doc.add_paragraph(\" \".join(value['statement']))\n",
    "            doc.add_paragraph()  # Add separation line\n",
    "\n",
    "    # Save the Document\n",
    "    doc.save(output_path)"
   ]
  },
  {
   "cell_type": "code",
   "execution_count": null,
   "id": "b33c2cb9-381b-4d70-9668-8ad444ae0078",
   "metadata": {},
   "outputs": [],
   "source": [
    "files = [f for f in os.listdir('.') if os.path.isfile(f)]"
   ]
  },
  {
   "cell_type": "code",
   "execution_count": null,
   "id": "b6c4fae2-f7d8-4166-8c60-fc75e2bc1b0e",
   "metadata": {},
   "outputs": [],
   "source": [
    "for filename in files:\n",
    "    if filename.endswith((\".vtt\", \".txt\")) and not filename.endswith(\"_cleaned.vtt\"):\n",
    "        pid = os.path.splitext(os.path.basename(filename))[0]\n",
    "        if pid:\n",
    "            results = formate_transcripts(filename)\n",
    "            dct = get_speaker(results, pid)\n",
    "            clean = formate_statements(dct)\n",
    "            save_clean_transcript(clean, filename)\n",
    "        else:\n",
    "            print(f\"Failed to extract PID from filename: {filename}\")\n"
   ]
  },
  {
   "cell_type": "code",
   "execution_count": null,
   "id": "77ce2b69-12c1-42a6-a04c-662d7ac7f377",
   "metadata": {},
   "outputs": [],
   "source": []
  },
  {
   "cell_type": "code",
   "execution_count": null,
   "id": "4fb51e57-9b6c-4f1e-b6e0-fba4787e5653",
   "metadata": {},
   "outputs": [],
   "source": []
  }
 ],
 "metadata": {
  "kernelspec": {
   "display_name": "venv3.12",
   "language": "python",
   "name": "venv3.12"
  },
  "language_info": {
   "codemirror_mode": {
    "name": "ipython",
    "version": 3
   },
   "file_extension": ".py",
   "mimetype": "text/x-python",
   "name": "python",
   "nbconvert_exporter": "python",
   "pygments_lexer": "ipython3",
   "version": "3.12.7"
  }
 },
 "nbformat": 4,
 "nbformat_minor": 5
}
