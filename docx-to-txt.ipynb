{
 "cells": [
  {
   "cell_type": "code",
   "execution_count": null,
   "id": "9f758b2a-2fd9-433b-9fc0-3f60af3e85ab",
   "metadata": {},
   "outputs": [],
   "source": [
    "import os\n",
    "from docx import Document\n",
    "\n",
    "def convert_docx_to_txt(docx_path, txt_path):\n",
    "    doc = Document(docx_path)\n",
    "    with open(txt_path, 'w', encoding='utf-8') as txt_file:\n",
    "        for para in doc.paragraphs:\n",
    "            txt_file.write(para.text + '\\n')\n",
    "\n",
    "def main():\n",
    "    current_directory = os.getcwd()\n",
    "    files = os.listdir(current_directory)\n",
    "\n",
    "    docx_files = [file for file in files if file.endswith('.docx')]\n",
    "\n",
    "    if not docx_files:\n",
    "        print(\"No .docx files found in the current directory.\")\n",
    "        return\n",
    "\n",
    "    for docx_file in docx_files:\n",
    "        txt_file_name = os.path.splitext(docx_file)[0] + '.txt'\n",
    "        txt_file_path = os.path.join(current_directory, txt_file_name)\n",
    "        docx_file_path = os.path.join(current_directory, docx_file)\n",
    "        \n",
    "        convert_docx_to_txt(docx_file_path, txt_file_path)\n",
    "        print(f\"Converted '{docx_file}' to 'txt/{txt_file_name}'\")\n",
    "\n",
    "if __name__ == \"__main__\":\n",
    "    main()"
   ]
  }
 ],
 "metadata": {
  "kernelspec": {
   "display_name": "venv3.12",
   "language": "python",
   "name": "venv3.12"
  },
  "language_info": {
   "codemirror_mode": {
    "name": "ipython",
    "version": 3
   },
   "file_extension": ".py",
   "mimetype": "text/x-python",
   "name": "python",
   "nbconvert_exporter": "python",
   "pygments_lexer": "ipython3",
   "version": "3.12.7"
  }
 },
 "nbformat": 4,
 "nbformat_minor": 5
}
